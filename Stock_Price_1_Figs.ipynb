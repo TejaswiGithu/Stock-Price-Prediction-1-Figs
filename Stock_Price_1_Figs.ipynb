{
  "nbformat": 4,
  "nbformat_minor": 0,
  "metadata": {
    "colab": {
      "name": "Stock Price -1-Figs",
      "provenance": []
    },
    "kernelspec": {
      "name": "python3",
      "display_name": "Python 3"
    },
    "language_info": {
      "name": "python"
    },
    "accelerator": "TPU",
    "gpuClass": "standard"
  },
  "cells": [
    {
      "cell_type": "code",
      "source": [
        "from google.colab import drive\n",
        "drive.mount(\"/content/drive\")"
      ],
      "metadata": {
        "id": "gB91HNwsWxxh",
        "colab": {
          "base_uri": "https://localhost:8080/"
        },
        "outputId": "d0cbd48c-dc10-422a-c172-612db2ec61fa"
      },
      "execution_count": 18,
      "outputs": [
        {
          "output_type": "stream",
          "name": "stdout",
          "text": [
            "Drive already mounted at /content/drive; to attempt to forcibly remount, call drive.mount(\"/content/drive\", force_remount=True).\n"
          ]
        }
      ]
    },
    {
      "cell_type": "code",
      "source": [
        "import pandas as pd\n",
        "import numpy as np\n",
        "import matplotlib.dates as mdates\n",
        "import matplotlib.pyplot as plt\n",
        "import datetime as dt\n",
        "plt.figure(figsize=(35,20))"
      ],
      "metadata": {
        "colab": {
          "base_uri": "https://localhost:8080/",
          "height": 52
        },
        "id": "wKSDUNyVJRGp",
        "outputId": "40442756-9fef-47af-d6db-003314e1ee74"
      },
      "execution_count": 19,
      "outputs": [
        {
          "output_type": "execute_result",
          "data": {
            "text/plain": [
              "<Figure size 2520x1440 with 0 Axes>"
            ]
          },
          "metadata": {},
          "execution_count": 19
        },
        {
          "output_type": "display_data",
          "data": {
            "text/plain": [
              "<Figure size 2520x1440 with 0 Axes>"
            ]
          },
          "metadata": {}
        }
      ]
    },
    {
      "cell_type": "code",
      "source": [
        "!pip install keras"
      ],
      "metadata": {
        "colab": {
          "base_uri": "https://localhost:8080/"
        },
        "id": "IIB2NqokywBn",
        "outputId": "70f59b7a-9ae5-4a48-a54b-fb9dde88892c"
      },
      "execution_count": 20,
      "outputs": [
        {
          "output_type": "stream",
          "name": "stdout",
          "text": [
            "Looking in indexes: https://pypi.org/simple, https://us-python.pkg.dev/colab-wheels/public/simple/\n",
            "Requirement already satisfied: keras in /usr/local/lib/python3.7/dist-packages (2.8.0)\n"
          ]
        }
      ]
    },
    {
      "cell_type": "code",
      "source": [
        "from tensorflow import keras"
      ],
      "metadata": {
        "id": "jIBAzFGwzNPG"
      },
      "execution_count": 21,
      "outputs": []
    },
    {
      "cell_type": "code",
      "source": [
        "# from Keras. utils.vis_utils import plot_model\n",
        "from tensorflow.keras.models import Sequential\n",
        "from tensorflow.keras.layers import Dense\n",
        "from tensorflow.keras.layers import LSTM\n",
        "from tensorflow.keras.layers import Dropout\n",
        "from tensorflow.keras.layers import *\n",
        "from tensorflow.keras.callbacks import EarlyStopping\n",
        "\n",
        "from sklearn.preprocessing import MinMaxScaler,StandardScaler\n",
        "from sklearn.metrics import mean_squared_error\n",
        "from sklearn.metrics import mean_absolute_percentage_error\n",
        "from sklearn.model_selection import train_test_split\n",
        "from sklearn.model_selection import TimeSeriesSplit\n",
        "from sklearn.metrics import mean_squared_error"
      ],
      "metadata": {
        "id": "RN7wb1bXP98n"
      },
      "execution_count": 22,
      "outputs": []
    },
    {
      "cell_type": "code",
      "source": [],
      "metadata": {
        "id": "W18BJU7AP9qL"
      },
      "execution_count": 22,
      "outputs": []
    },
    {
      "cell_type": "code",
      "source": [
        "stock_data = pd.read_csv('/content/drive/MyDrive/stock prices/FIGS.csv',index_col ='Date')"
      ],
      "metadata": {
        "id": "oMcoOnSlJRA1"
      },
      "execution_count": 23,
      "outputs": []
    },
    {
      "cell_type": "code",
      "source": [
        "stock_data"
      ],
      "metadata": {
        "colab": {
          "base_uri": "https://localhost:8080/",
          "height": 455
        },
        "id": "ZIQLgG7eFOiR",
        "outputId": "b0e17024-36c1-4475-f007-136e8e7b887a"
      },
      "execution_count": 24,
      "outputs": [
        {
          "output_type": "execute_result",
          "data": {
            "text/plain": [
              "                 Open       High        Low      Close  Adj Close    Volume\n",
              "Date                                                                       \n",
              "2021-08-25  36.259998  37.130001  34.130001  37.009998  37.009998   1933600\n",
              "2021-08-26  36.799999  36.845001  35.200001  36.279999  36.279999   1760100\n",
              "2021-08-27  36.930000  39.720001  35.924999  39.450001  39.450001   3693800\n",
              "2021-08-30  39.689999  42.180000  39.520000  41.849998  41.849998   2105900\n",
              "2021-08-31  41.430000  41.930000  40.061001  41.009998  41.009998   1418400\n",
              "...               ...        ...        ...        ...        ...       ...\n",
              "2022-08-19  11.640000  11.770000  10.690000  10.800000  10.800000   3400300\n",
              "2022-08-22  10.500000  10.640000   9.960000  10.160000  10.160000   3156500\n",
              "2022-08-23  10.210000  10.500000  10.060000  10.100000  10.100000   2587800\n",
              "2022-08-24  10.070000  10.300000   9.950000  10.100000  10.100000   2779700\n",
              "2022-08-25  10.770000  11.940000  10.460000  11.910000  11.910000  17631530\n",
              "\n",
              "[253 rows x 6 columns]"
            ],
            "text/html": [
              "\n",
              "  <div id=\"df-39b0b8b1-8423-4a22-88c6-9e634ab48c23\">\n",
              "    <div class=\"colab-df-container\">\n",
              "      <div>\n",
              "<style scoped>\n",
              "    .dataframe tbody tr th:only-of-type {\n",
              "        vertical-align: middle;\n",
              "    }\n",
              "\n",
              "    .dataframe tbody tr th {\n",
              "        vertical-align: top;\n",
              "    }\n",
              "\n",
              "    .dataframe thead th {\n",
              "        text-align: right;\n",
              "    }\n",
              "</style>\n",
              "<table border=\"1\" class=\"dataframe\">\n",
              "  <thead>\n",
              "    <tr style=\"text-align: right;\">\n",
              "      <th></th>\n",
              "      <th>Open</th>\n",
              "      <th>High</th>\n",
              "      <th>Low</th>\n",
              "      <th>Close</th>\n",
              "      <th>Adj Close</th>\n",
              "      <th>Volume</th>\n",
              "    </tr>\n",
              "    <tr>\n",
              "      <th>Date</th>\n",
              "      <th></th>\n",
              "      <th></th>\n",
              "      <th></th>\n",
              "      <th></th>\n",
              "      <th></th>\n",
              "      <th></th>\n",
              "    </tr>\n",
              "  </thead>\n",
              "  <tbody>\n",
              "    <tr>\n",
              "      <th>2021-08-25</th>\n",
              "      <td>36.259998</td>\n",
              "      <td>37.130001</td>\n",
              "      <td>34.130001</td>\n",
              "      <td>37.009998</td>\n",
              "      <td>37.009998</td>\n",
              "      <td>1933600</td>\n",
              "    </tr>\n",
              "    <tr>\n",
              "      <th>2021-08-26</th>\n",
              "      <td>36.799999</td>\n",
              "      <td>36.845001</td>\n",
              "      <td>35.200001</td>\n",
              "      <td>36.279999</td>\n",
              "      <td>36.279999</td>\n",
              "      <td>1760100</td>\n",
              "    </tr>\n",
              "    <tr>\n",
              "      <th>2021-08-27</th>\n",
              "      <td>36.930000</td>\n",
              "      <td>39.720001</td>\n",
              "      <td>35.924999</td>\n",
              "      <td>39.450001</td>\n",
              "      <td>39.450001</td>\n",
              "      <td>3693800</td>\n",
              "    </tr>\n",
              "    <tr>\n",
              "      <th>2021-08-30</th>\n",
              "      <td>39.689999</td>\n",
              "      <td>42.180000</td>\n",
              "      <td>39.520000</td>\n",
              "      <td>41.849998</td>\n",
              "      <td>41.849998</td>\n",
              "      <td>2105900</td>\n",
              "    </tr>\n",
              "    <tr>\n",
              "      <th>2021-08-31</th>\n",
              "      <td>41.430000</td>\n",
              "      <td>41.930000</td>\n",
              "      <td>40.061001</td>\n",
              "      <td>41.009998</td>\n",
              "      <td>41.009998</td>\n",
              "      <td>1418400</td>\n",
              "    </tr>\n",
              "    <tr>\n",
              "      <th>...</th>\n",
              "      <td>...</td>\n",
              "      <td>...</td>\n",
              "      <td>...</td>\n",
              "      <td>...</td>\n",
              "      <td>...</td>\n",
              "      <td>...</td>\n",
              "    </tr>\n",
              "    <tr>\n",
              "      <th>2022-08-19</th>\n",
              "      <td>11.640000</td>\n",
              "      <td>11.770000</td>\n",
              "      <td>10.690000</td>\n",
              "      <td>10.800000</td>\n",
              "      <td>10.800000</td>\n",
              "      <td>3400300</td>\n",
              "    </tr>\n",
              "    <tr>\n",
              "      <th>2022-08-22</th>\n",
              "      <td>10.500000</td>\n",
              "      <td>10.640000</td>\n",
              "      <td>9.960000</td>\n",
              "      <td>10.160000</td>\n",
              "      <td>10.160000</td>\n",
              "      <td>3156500</td>\n",
              "    </tr>\n",
              "    <tr>\n",
              "      <th>2022-08-23</th>\n",
              "      <td>10.210000</td>\n",
              "      <td>10.500000</td>\n",
              "      <td>10.060000</td>\n",
              "      <td>10.100000</td>\n",
              "      <td>10.100000</td>\n",
              "      <td>2587800</td>\n",
              "    </tr>\n",
              "    <tr>\n",
              "      <th>2022-08-24</th>\n",
              "      <td>10.070000</td>\n",
              "      <td>10.300000</td>\n",
              "      <td>9.950000</td>\n",
              "      <td>10.100000</td>\n",
              "      <td>10.100000</td>\n",
              "      <td>2779700</td>\n",
              "    </tr>\n",
              "    <tr>\n",
              "      <th>2022-08-25</th>\n",
              "      <td>10.770000</td>\n",
              "      <td>11.940000</td>\n",
              "      <td>10.460000</td>\n",
              "      <td>11.910000</td>\n",
              "      <td>11.910000</td>\n",
              "      <td>17631530</td>\n",
              "    </tr>\n",
              "  </tbody>\n",
              "</table>\n",
              "<p>253 rows × 6 columns</p>\n",
              "</div>\n",
              "      <button class=\"colab-df-convert\" onclick=\"convertToInteractive('df-39b0b8b1-8423-4a22-88c6-9e634ab48c23')\"\n",
              "              title=\"Convert this dataframe to an interactive table.\"\n",
              "              style=\"display:none;\">\n",
              "        \n",
              "  <svg xmlns=\"http://www.w3.org/2000/svg\" height=\"24px\"viewBox=\"0 0 24 24\"\n",
              "       width=\"24px\">\n",
              "    <path d=\"M0 0h24v24H0V0z\" fill=\"none\"/>\n",
              "    <path d=\"M18.56 5.44l.94 2.06.94-2.06 2.06-.94-2.06-.94-.94-2.06-.94 2.06-2.06.94zm-11 1L8.5 8.5l.94-2.06 2.06-.94-2.06-.94L8.5 2.5l-.94 2.06-2.06.94zm10 10l.94 2.06.94-2.06 2.06-.94-2.06-.94-.94-2.06-.94 2.06-2.06.94z\"/><path d=\"M17.41 7.96l-1.37-1.37c-.4-.4-.92-.59-1.43-.59-.52 0-1.04.2-1.43.59L10.3 9.45l-7.72 7.72c-.78.78-.78 2.05 0 2.83L4 21.41c.39.39.9.59 1.41.59.51 0 1.02-.2 1.41-.59l7.78-7.78 2.81-2.81c.8-.78.8-2.07 0-2.86zM5.41 20L4 18.59l7.72-7.72 1.47 1.35L5.41 20z\"/>\n",
              "  </svg>\n",
              "      </button>\n",
              "      \n",
              "  <style>\n",
              "    .colab-df-container {\n",
              "      display:flex;\n",
              "      flex-wrap:wrap;\n",
              "      gap: 12px;\n",
              "    }\n",
              "\n",
              "    .colab-df-convert {\n",
              "      background-color: #E8F0FE;\n",
              "      border: none;\n",
              "      border-radius: 50%;\n",
              "      cursor: pointer;\n",
              "      display: none;\n",
              "      fill: #1967D2;\n",
              "      height: 32px;\n",
              "      padding: 0 0 0 0;\n",
              "      width: 32px;\n",
              "    }\n",
              "\n",
              "    .colab-df-convert:hover {\n",
              "      background-color: #E2EBFA;\n",
              "      box-shadow: 0px 1px 2px rgba(60, 64, 67, 0.3), 0px 1px 3px 1px rgba(60, 64, 67, 0.15);\n",
              "      fill: #174EA6;\n",
              "    }\n",
              "\n",
              "    [theme=dark] .colab-df-convert {\n",
              "      background-color: #3B4455;\n",
              "      fill: #D2E3FC;\n",
              "    }\n",
              "\n",
              "    [theme=dark] .colab-df-convert:hover {\n",
              "      background-color: #434B5C;\n",
              "      box-shadow: 0px 1px 3px 1px rgba(0, 0, 0, 0.15);\n",
              "      filter: drop-shadow(0px 1px 2px rgba(0, 0, 0, 0.3));\n",
              "      fill: #FFFFFF;\n",
              "    }\n",
              "  </style>\n",
              "\n",
              "      <script>\n",
              "        const buttonEl =\n",
              "          document.querySelector('#df-39b0b8b1-8423-4a22-88c6-9e634ab48c23 button.colab-df-convert');\n",
              "        buttonEl.style.display =\n",
              "          google.colab.kernel.accessAllowed ? 'block' : 'none';\n",
              "\n",
              "        async function convertToInteractive(key) {\n",
              "          const element = document.querySelector('#df-39b0b8b1-8423-4a22-88c6-9e634ab48c23');\n",
              "          const dataTable =\n",
              "            await google.colab.kernel.invokeFunction('convertToInteractive',\n",
              "                                                     [key], {});\n",
              "          if (!dataTable) return;\n",
              "\n",
              "          const docLinkHtml = 'Like what you see? Visit the ' +\n",
              "            '<a target=\"_blank\" href=https://colab.research.google.com/notebooks/data_table.ipynb>data table notebook</a>'\n",
              "            + ' to learn more about interactive tables.';\n",
              "          element.innerHTML = '';\n",
              "          dataTable['output_type'] = 'display_data';\n",
              "          await google.colab.output.renderOutput(dataTable, element);\n",
              "          const docLink = document.createElement('div');\n",
              "          docLink.innerHTML = docLinkHtml;\n",
              "          element.appendChild(docLink);\n",
              "        }\n",
              "      </script>\n",
              "    </div>\n",
              "  </div>\n",
              "  "
            ]
          },
          "metadata": {},
          "execution_count": 24
        }
      ]
    },
    {
      "cell_type": "markdown",
      "source": [
        "Check for Null Values by printing the DataFrame Shape"
      ],
      "metadata": {
        "id": "dNd06wTvsbmm"
      }
    },
    {
      "cell_type": "code",
      "source": [
        "#Print the shape of Dataframe  and Check for Null Values\n",
        "print(\"Dataframe Shape: \", stock_data. shape)\n",
        "print(\"Null Value Present: \", stock_data.isnull().values.any())\n"
      ],
      "metadata": {
        "colab": {
          "base_uri": "https://localhost:8080/"
        },
        "id": "116zRhH-sdI0",
        "outputId": "130da97d-09f8-4a1b-f895-869e18da73a7"
      },
      "execution_count": 25,
      "outputs": [
        {
          "output_type": "stream",
          "name": "stdout",
          "text": [
            "Dataframe Shape:  (253, 6)\n",
            "Null Value Present:  False\n"
          ]
        }
      ]
    },
    {
      "cell_type": "markdown",
      "source": [
        "The Adjusted Close Value is the final output value that will be forecasted using the Machine Learning model"
      ],
      "metadata": {
        "id": "8rItevoUuwwb"
      }
    },
    {
      "cell_type": "code",
      "source": [
        "#Plot the True Adj Close Value\n",
        "stock_data['Adj Close'].plot()"
      ],
      "metadata": {
        "colab": {
          "base_uri": "https://localhost:8080/",
          "height": 296
        },
        "id": "k-k0Kz49uzk5",
        "outputId": "5ac3a66e-db1f-4058-ff33-d181f4e7b352"
      },
      "execution_count": 26,
      "outputs": [
        {
          "output_type": "execute_result",
          "data": {
            "text/plain": [
              "<matplotlib.axes._subplots.AxesSubplot at 0x7eff56f72390>"
            ]
          },
          "metadata": {},
          "execution_count": 26
        },
        {
          "output_type": "display_data",
          "data": {
            "text/plain": [
              "<Figure size 432x288 with 1 Axes>"
            ],
            "image/png": "[encoded data removed]"
          },
          "metadata": {
            "needs_background": "light"
          }
        }
      ]
    },
    {
      "cell_type": "code",
      "source": [
        "#Set Target Variable\n",
        "output_var = pd.DataFrame(stock_data['Adj Close'])\n",
        "#Selecting the Features\n",
        "features = ['Open', 'High', 'Low', 'Volume']"
      ],
      "metadata": {
        "id": "Eqsf7Zc4uzbx"
      },
      "execution_count": 27,
      "outputs": []
    },
    {
      "cell_type": "markdown",
      "source": [
        "Scaling"
      ],
      "metadata": {
        "id": "kdILCNt5vn_c"
      }
    },
    {
      "cell_type": "code",
      "source": [
        "scaler = MinMaxScaler()\n",
        "feature_transform = scaler.fit_transform(stock_data[features])\n",
        "feature_transform= pd.DataFrame(columns=features, data=feature_transform, index=stock_data.index)\n",
        "feature_transform.head()"
      ],
      "metadata": {
        "colab": {
          "base_uri": "https://localhost:8080/",
          "height": 238
        },
        "id": "k1A9GBC7vrO3",
        "outputId": "2fae8b4d-6d98-4113-ad26-7c8cacbe62d8"
      },
      "execution_count": 28,
      "outputs": [
        {
          "output_type": "execute_result",
          "data": {
            "text/plain": [
              "                Open      High       Low    Volume\n",
              "Date                                              \n",
              "2021-08-25  0.766763  0.721967  0.735703  0.058120\n",
              "2021-08-26  0.780962  0.715077  0.764649  0.050145\n",
              "2021-08-27  0.784381  0.784585  0.784261  0.139038\n",
              "2021-08-30  0.856955  0.844060  0.881513  0.066041\n",
              "2021-08-31  0.902708  0.838016  0.896148  0.034436"
            ],
            "text/html": [
              "\n",
              "  <div id=\"df-f3fb61ee-f49d-4aa0-9b2f-fe23abe0bb6d\">\n",
              "    <div class=\"colab-df-container\">\n",
              "      <div>\n",
              "<style scoped>\n",
              "    .dataframe tbody tr th:only-of-type {\n",
              "        vertical-align: middle;\n",
              "    }\n",
              "\n",
              "    .dataframe tbody tr th {\n",
              "        vertical-align: top;\n",
              "    }\n",
              "\n",
              "    .dataframe thead th {\n",
              "        text-align: right;\n",
              "    }\n",
              "</style>\n",
              "<table border=\"1\" class=\"dataframe\">\n",
              "  <thead>\n",
              "    <tr style=\"text-align: right;\">\n",
              "      <th></th>\n",
              "      <th>Open</th>\n",
              "      <th>High</th>\n",
              "      <th>Low</th>\n",
              "      <th>Volume</th>\n",
              "    </tr>\n",
              "    <tr>\n",
              "      <th>Date</th>\n",
              "      <th></th>\n",
              "      <th></th>\n",
              "      <th></th>\n",
              "      <th></th>\n",
              "    </tr>\n",
              "  </thead>\n",
              "  <tbody>\n",
              "    <tr>\n",
              "      <th>2021-08-25</th>\n",
              "      <td>0.766763</td>\n",
              "      <td>0.721967</td>\n",
              "      <td>0.735703</td>\n",
              "      <td>0.058120</td>\n",
              "    </tr>\n",
              "    <tr>\n",
              "      <th>2021-08-26</th>\n",
              "      <td>0.780962</td>\n",
              "      <td>0.715077</td>\n",
              "      <td>0.764649</td>\n",
              "      <td>0.050145</td>\n",
              "    </tr>\n",
              "    <tr>\n",
              "      <th>2021-08-27</th>\n",
              "      <td>0.784381</td>\n",
              "      <td>0.784585</td>\n",
              "      <td>0.784261</td>\n",
              "      <td>0.139038</td>\n",
              "    </tr>\n",
              "    <tr>\n",
              "      <th>2021-08-30</th>\n",
              "      <td>0.856955</td>\n",
              "      <td>0.844060</td>\n",
              "      <td>0.881513</td>\n",
              "      <td>0.066041</td>\n",
              "    </tr>\n",
              "    <tr>\n",
              "      <th>2021-08-31</th>\n",
              "      <td>0.902708</td>\n",
              "      <td>0.838016</td>\n",
              "      <td>0.896148</td>\n",
              "      <td>0.034436</td>\n",
              "    </tr>\n",
              "  </tbody>\n",
              "</table>\n",
              "</div>\n",
              "      <button class=\"colab-df-convert\" onclick=\"convertToInteractive('df-f3fb61ee-f49d-4aa0-9b2f-fe23abe0bb6d')\"\n",
              "              title=\"Convert this dataframe to an interactive table.\"\n",
              "              style=\"display:none;\">\n",
              "        \n",
              "  <svg xmlns=\"http://www.w3.org/2000/svg\" height=\"24px\"viewBox=\"0 0 24 24\"\n",
              "       width=\"24px\">\n",
              "    <path d=\"M0 0h24v24H0V0z\" fill=\"none\"/>\n",
              "    <path d=\"M18.56 5.44l.94 2.06.94-2.06 2.06-.94-2.06-.94-.94-2.06-.94 2.06-2.06.94zm-11 1L8.5 8.5l.94-2.06 2.06-.94-2.06-.94L8.5 2.5l-.94 2.06-2.06.94zm10 10l.94 2.06.94-2.06 2.06-.94-2.06-.94-.94-2.06-.94 2.06-2.06.94z\"/><path d=\"M17.41 7.96l-1.37-1.37c-.4-.4-.92-.59-1.43-.59-.52 0-1.04.2-1.43.59L10.3 9.45l-7.72 7.72c-.78.78-.78 2.05 0 2.83L4 21.41c.39.39.9.59 1.41.59.51 0 1.02-.2 1.41-.59l7.78-7.78 2.81-2.81c.8-.78.8-2.07 0-2.86zM5.41 20L4 18.59l7.72-7.72 1.47 1.35L5.41 20z\"/>\n",
              "  </svg>\n",
              "      </button>\n",
              "      \n",
              "  <style>\n",
              "    .colab-df-container {\n",
              "      display:flex;\n",
              "      flex-wrap:wrap;\n",
              "      gap: 12px;\n",
              "    }\n",
              "\n",
              "    .colab-df-convert {\n",
              "      background-color: #E8F0FE;\n",
              "      border: none;\n",
              "      border-radius: 50%;\n",
              "      cursor: pointer;\n",
              "      display: none;\n",
              "      fill: #1967D2;\n",
              "      height: 32px;\n",
              "      padding: 0 0 0 0;\n",
              "      width: 32px;\n",
              "    }\n",
              "\n",
              "    .colab-df-convert:hover {\n",
              "      background-color: #E2EBFA;\n",
              "      box-shadow: 0px 1px 2px rgba(60, 64, 67, 0.3), 0px 1px 3px 1px rgba(60, 64, 67, 0.15);\n",
              "      fill: #174EA6;\n",
              "    }\n",
              "\n",
              "    [theme=dark] .colab-df-convert {\n",
              "      background-color: #3B4455;\n",
              "      fill: #D2E3FC;\n",
              "    }\n",
              "\n",
              "    [theme=dark] .colab-df-convert:hover {\n",
              "      background-color: #434B5C;\n",
              "      box-shadow: 0px 1px 3px 1px rgba(0, 0, 0, 0.15);\n",
              "      filter: drop-shadow(0px 1px 2px rgba(0, 0, 0, 0.3));\n",
              "      fill: #FFFFFF;\n",
              "    }\n",
              "  </style>\n",
              "\n",
              "      <script>\n",
              "        const buttonEl =\n",
              "          document.querySelector('#df-f3fb61ee-f49d-4aa0-9b2f-fe23abe0bb6d button.colab-df-convert');\n",
              "        buttonEl.style.display =\n",
              "          google.colab.kernel.accessAllowed ? 'block' : 'none';\n",
              "\n",
              "        async function convertToInteractive(key) {\n",
              "          const element = document.querySelector('#df-f3fb61ee-f49d-4aa0-9b2f-fe23abe0bb6d');\n",
              "          const dataTable =\n",
              "            await google.colab.kernel.invokeFunction('convertToInteractive',\n",
              "                                                     [key], {});\n",
              "          if (!dataTable) return;\n",
              "\n",
              "          const docLinkHtml = 'Like what you see? Visit the ' +\n",
              "            '<a target=\"_blank\" href=https://colab.research.google.com/notebooks/data_table.ipynb>data table notebook</a>'\n",
              "            + ' to learn more about interactive tables.';\n",
              "          element.innerHTML = '';\n",
              "          dataTable['output_type'] = 'display_data';\n",
              "          await google.colab.output.renderOutput(dataTable, element);\n",
              "          const docLink = document.createElement('div');\n",
              "          docLink.innerHTML = docLinkHtml;\n",
              "          element.appendChild(docLink);\n",
              "        }\n",
              "      </script>\n",
              "    </div>\n",
              "  </div>\n",
              "  "
            ]
          },
          "metadata": {},
          "execution_count": 28
        }
      ]
    },
    {
      "cell_type": "markdown",
      "source": [
        "Creating a Training Set and a Test Set for Stock Market Prediction"
      ],
      "metadata": {
        "id": "NhHtjKe5wOw5"
      }
    },
    {
      "cell_type": "code",
      "source": [
        "#Splitting to Training set and Test set\n",
        "timesplit= TimeSeriesSplit(n_splits=10)\n",
        "for train_index, test_index in timesplit.split(feature_transform):\n",
        "        X_train, X_test = feature_transform[:len(train_index)], feature_transform[len(train_index): (len(train_index)+len(test_index))]\n",
        "        y_train, y_test = output_var[:len(train_index)].values.ravel(), output_var[len(train_index): (len(train_index)+len(test_index))].values.ravel()"
      ],
      "metadata": {
        "id": "Rv8PjFBHvrI1"
      },
      "execution_count": 29,
      "outputs": []
    },
    {
      "cell_type": "markdown",
      "source": [
        "As the LSTM needs that the data to be provided in the 3D form, we first transform the training and test data to NumPy arrays and then restructure them to match into the format (Number of Samples, 1, Number of Features). "
      ],
      "metadata": {
        "id": "1bHbCsxfxhrg"
      }
    },
    {
      "cell_type": "code",
      "source": [
        "#Process the data for LSTM\n",
        "trainX =np.array(X_train)\n",
        "testX =np.array(X_test)\n",
        "X_train = trainX.reshape(X_train.shape[0], 1, X_train.shape[1])\n",
        "X_test = testX.reshape(X_test.shape[0], 1, X_test.shape[1])"
      ],
      "metadata": {
        "id": "JpXPJqkHvq_g"
      },
      "execution_count": 30,
      "outputs": []
    },
    {
      "cell_type": "markdown",
      "source": [
        "The LSTM layer has 32 units and is followed by one Dense Layer of one neuron."
      ],
      "metadata": {
        "id": "3HOrWKkIyJxN"
      }
    },
    {
      "cell_type": "markdown",
      "source": [
        "We compile the model using Adam Optimizer and the Mean Squared Error as the loss function. For an LSTM model, this is the most preferred combination. The model is plotted and presented below."
      ],
      "metadata": {
        "id": "xIpx-07_yN5R"
      }
    },
    {
      "cell_type": "code",
      "source": [
        "#Building the LSTM Model\n",
        "lstm = Sequential()\n",
        "lstm.add(LSTM(32, input_shape=(1, trainX.shape[1]), activation='relu', return_sequences=False))\n",
        "lstm.add(Dense(1))\n",
        "lstm.compile(loss='mean_squared_error', optimizer='adam')\n",
        "# plt.show(lstm, show_shapes=True, show_layer_names=True)"
      ],
      "metadata": {
        "id": "TxMd2g2_vq4l"
      },
      "execution_count": 31,
      "outputs": []
    },
    {
      "cell_type": "code",
      "source": [
        "#Model Training\n",
        "history=lstm.fit(X_train, y_train, epochs=100, batch_size=8, verbose=1, shuffle=False)"
      ],
      "metadata": {
        "colab": {
          "base_uri": "https://localhost:8080/"
        },
        "id": "xXUGfFZjvqv5",
        "outputId": "69c4d858-5fe0-4d53-cae4-20d3ca0acf76"
      },
      "execution_count": 32,
      "outputs": [
        {
          "output_type": "stream",
          "name": "stdout",
          "text": [
            "Epoch 1/100\n",
            "29/29 [==============================] - 2s 4ms/step - loss: 660.6898\n",
            "Epoch 2/100\n",
            "29/29 [==============================] - 0s 5ms/step - loss: 656.4012\n",
            "Epoch 3/100\n",
            "29/29 [==============================] - 0s 8ms/step - loss: 651.1219\n",
            "Epoch 4/100\n",
            "29/29 [==============================] - 0s 7ms/step - loss: 643.9958\n",
            "Epoch 5/100\n",
            "29/29 [==============================] - 0s 6ms/step - loss: 634.5557\n",
            "Epoch 6/100\n",
            "29/29 [==============================] - 0s 7ms/step - loss: 622.2807\n",
            "Epoch 7/100\n",
            "29/29 [==============================] - 0s 8ms/step - loss: 606.7240\n",
            "Epoch 8/100\n",
            "29/29 [==============================] - 0s 5ms/step - loss: 587.5313\n",
            "Epoch 9/100\n",
            "29/29 [==============================] - 0s 5ms/step - loss: 564.4932\n",
            "Epoch 10/100\n",
            "29/29 [==============================] - 0s 6ms/step - loss: 537.5859\n",
            "Epoch 11/100\n",
            "29/29 [==============================] - 0s 5ms/step - loss: 506.9925\n",
            "Epoch 12/100\n",
            "29/29 [==============================] - 0s 7ms/step - loss: 473.1048\n",
            "Epoch 13/100\n",
            "29/29 [==============================] - 0s 5ms/step - loss: 436.5022\n",
            "Epoch 14/100\n",
            "29/29 [==============================] - 0s 8ms/step - loss: 397.9149\n",
            "Epoch 15/100\n",
            "29/29 [==============================] - 0s 5ms/step - loss: 358.1738\n",
            "Epoch 16/100\n",
            "29/29 [==============================] - 0s 7ms/step - loss: 318.1564\n",
            "Epoch 17/100\n",
            "29/29 [==============================] - 0s 9ms/step - loss: 278.7323\n",
            "Epoch 18/100\n",
            "29/29 [==============================] - 0s 6ms/step - loss: 240.7141\n",
            "Epoch 19/100\n",
            "29/29 [==============================] - 0s 7ms/step - loss: 204.8163\n",
            "Epoch 20/100\n",
            "29/29 [==============================] - 0s 6ms/step - loss: 171.6242\n",
            "Epoch 21/100\n",
            "29/29 [==============================] - 0s 6ms/step - loss: 141.5727\n",
            "Epoch 22/100\n",
            "29/29 [==============================] - 0s 7ms/step - loss: 114.9374\n",
            "Epoch 23/100\n",
            "29/29 [==============================] - 0s 7ms/step - loss: 91.8343\n",
            "Epoch 24/100\n",
            "29/29 [==============================] - 0s 7ms/step - loss: 72.2314\n",
            "Epoch 25/100\n",
            "29/29 [==============================] - 0s 8ms/step - loss: 55.9672\n",
            "Epoch 26/100\n",
            "29/29 [==============================] - 0s 9ms/step - loss: 42.7770\n",
            "Epoch 27/100\n",
            "29/29 [==============================] - 0s 7ms/step - loss: 32.3231\n",
            "Epoch 28/100\n",
            "29/29 [==============================] - 0s 7ms/step - loss: 24.2265\n",
            "Epoch 29/100\n",
            "29/29 [==============================] - 0s 5ms/step - loss: 18.0970\n",
            "Epoch 30/100\n",
            "29/29 [==============================] - 0s 6ms/step - loss: 13.5583\n",
            "Epoch 31/100\n",
            "29/29 [==============================] - 0s 6ms/step - loss: 10.2678\n",
            "Epoch 32/100\n",
            "29/29 [==============================] - 0s 6ms/step - loss: 7.9284\n",
            "Epoch 33/100\n",
            "29/29 [==============================] - 0s 5ms/step - loss: 6.2933\n",
            "Epoch 34/100\n",
            "29/29 [==============================] - 0s 7ms/step - loss: 5.1660\n",
            "Epoch 35/100\n",
            "29/29 [==============================] - 0s 5ms/step - loss: 4.3956\n",
            "Epoch 36/100\n",
            "29/29 [==============================] - 0s 7ms/step - loss: 3.8695\n",
            "Epoch 37/100\n",
            "29/29 [==============================] - 0s 6ms/step - loss: 3.5088\n",
            "Epoch 38/100\n",
            "29/29 [==============================] - 0s 6ms/step - loss: 3.2563\n",
            "Epoch 39/100\n",
            "29/29 [==============================] - 0s 7ms/step - loss: 3.0746\n",
            "Epoch 40/100\n",
            "29/29 [==============================] - 0s 5ms/step - loss: 2.9378\n",
            "Epoch 41/100\n",
            "29/29 [==============================] - 0s 5ms/step - loss: 2.8295\n",
            "Epoch 42/100\n",
            "29/29 [==============================] - 0s 7ms/step - loss: 2.7393\n",
            "Epoch 43/100\n",
            "29/29 [==============================] - 0s 6ms/step - loss: 2.6607\n",
            "Epoch 44/100\n",
            "29/29 [==============================] - 0s 8ms/step - loss: 2.5896\n",
            "Epoch 45/100\n",
            "29/29 [==============================] - 0s 10ms/step - loss: 2.5237\n",
            "Epoch 46/100\n",
            "29/29 [==============================] - 0s 6ms/step - loss: 2.4615\n",
            "Epoch 47/100\n",
            "29/29 [==============================] - 0s 8ms/step - loss: 2.4023\n",
            "Epoch 48/100\n",
            "29/29 [==============================] - 0s 9ms/step - loss: 2.3454\n",
            "Epoch 49/100\n",
            "29/29 [==============================] - 0s 6ms/step - loss: 2.2907\n",
            "Epoch 50/100\n",
            "29/29 [==============================] - 0s 7ms/step - loss: 2.2378\n",
            "Epoch 51/100\n",
            "29/29 [==============================] - 0s 7ms/step - loss: 2.1868\n",
            "Epoch 52/100\n",
            "29/29 [==============================] - 0s 7ms/step - loss: 2.1374\n",
            "Epoch 53/100\n",
            "29/29 [==============================] - 0s 7ms/step - loss: 2.0896\n",
            "Epoch 54/100\n",
            "29/29 [==============================] - 0s 5ms/step - loss: 2.0435\n",
            "Epoch 55/100\n",
            "29/29 [==============================] - 0s 6ms/step - loss: 1.9990\n",
            "Epoch 56/100\n",
            "29/29 [==============================] - 0s 9ms/step - loss: 1.9560\n",
            "Epoch 57/100\n",
            "29/29 [==============================] - 0s 11ms/step - loss: 1.9144\n",
            "Epoch 58/100\n",
            "29/29 [==============================] - 0s 7ms/step - loss: 1.8744\n",
            "Epoch 59/100\n",
            "29/29 [==============================] - 0s 11ms/step - loss: 1.8357\n",
            "Epoch 60/100\n",
            "29/29 [==============================] - 0s 12ms/step - loss: 1.7987\n",
            "Epoch 61/100\n",
            "29/29 [==============================] - 0s 12ms/step - loss: 1.7625\n",
            "Epoch 62/100\n",
            "29/29 [==============================] - 0s 7ms/step - loss: 1.7277\n",
            "Epoch 63/100\n",
            "29/29 [==============================] - 0s 6ms/step - loss: 1.6946\n",
            "Epoch 64/100\n",
            "29/29 [==============================] - 0s 7ms/step - loss: 1.6623\n",
            "Epoch 65/100\n",
            "29/29 [==============================] - 0s 6ms/step - loss: 1.6311\n",
            "Epoch 66/100\n",
            "29/29 [==============================] - 0s 7ms/step - loss: 1.6011\n",
            "Epoch 67/100\n",
            "29/29 [==============================] - 0s 6ms/step - loss: 1.5721\n",
            "Epoch 68/100\n",
            "29/29 [==============================] - 0s 7ms/step - loss: 1.5441\n",
            "Epoch 69/100\n",
            "29/29 [==============================] - 0s 7ms/step - loss: 1.5168\n",
            "Epoch 70/100\n",
            "29/29 [==============================] - 0s 5ms/step - loss: 1.4902\n",
            "Epoch 71/100\n",
            "29/29 [==============================] - 0s 8ms/step - loss: 1.4643\n",
            "Epoch 72/100\n",
            "29/29 [==============================] - 0s 7ms/step - loss: 1.4390\n",
            "Epoch 73/100\n",
            "29/29 [==============================] - 0s 6ms/step - loss: 1.4145\n",
            "Epoch 74/100\n",
            "29/29 [==============================] - 0s 10ms/step - loss: 1.3907\n",
            "Epoch 75/100\n",
            "29/29 [==============================] - 0s 9ms/step - loss: 1.3677\n",
            "Epoch 76/100\n",
            "29/29 [==============================] - 0s 13ms/step - loss: 1.3453\n",
            "Epoch 77/100\n",
            "29/29 [==============================] - 0s 9ms/step - loss: 1.3235\n",
            "Epoch 78/100\n",
            "29/29 [==============================] - 0s 11ms/step - loss: 1.3021\n",
            "Epoch 79/100\n",
            "29/29 [==============================] - 0s 8ms/step - loss: 1.2812\n",
            "Epoch 80/100\n",
            "29/29 [==============================] - 0s 6ms/step - loss: 1.2607\n",
            "Epoch 81/100\n",
            "29/29 [==============================] - 0s 7ms/step - loss: 1.2409\n",
            "Epoch 82/100\n",
            "29/29 [==============================] - 0s 5ms/step - loss: 1.2217\n",
            "Epoch 83/100\n",
            "29/29 [==============================] - 0s 8ms/step - loss: 1.2029\n",
            "Epoch 84/100\n",
            "29/29 [==============================] - 0s 6ms/step - loss: 1.1845\n",
            "Epoch 85/100\n",
            "29/29 [==============================] - 0s 6ms/step - loss: 1.1666\n",
            "Epoch 86/100\n",
            "29/29 [==============================] - 0s 5ms/step - loss: 1.1493\n",
            "Epoch 87/100\n",
            "29/29 [==============================] - 0s 5ms/step - loss: 1.1325\n",
            "Epoch 88/100\n",
            "29/29 [==============================] - 0s 6ms/step - loss: 1.1162\n",
            "Epoch 89/100\n",
            "29/29 [==============================] - 0s 6ms/step - loss: 1.1004\n",
            "Epoch 90/100\n",
            "29/29 [==============================] - 0s 5ms/step - loss: 1.0850\n",
            "Epoch 91/100\n",
            "29/29 [==============================] - 0s 6ms/step - loss: 1.0700\n",
            "Epoch 92/100\n",
            "29/29 [==============================] - 0s 6ms/step - loss: 1.0554\n",
            "Epoch 93/100\n",
            "29/29 [==============================] - 0s 5ms/step - loss: 1.0413\n",
            "Epoch 94/100\n",
            "29/29 [==============================] - 0s 5ms/step - loss: 1.0275\n",
            "Epoch 95/100\n",
            "29/29 [==============================] - 0s 5ms/step - loss: 1.0140\n",
            "Epoch 96/100\n",
            "29/29 [==============================] - 0s 5ms/step - loss: 1.0009\n",
            "Epoch 97/100\n",
            "29/29 [==============================] - 0s 6ms/step - loss: 0.9883\n",
            "Epoch 98/100\n",
            "29/29 [==============================] - 0s 5ms/step - loss: 0.9759\n",
            "Epoch 99/100\n",
            "29/29 [==============================] - 0s 5ms/step - loss: 0.9639\n",
            "Epoch 100/100\n",
            "29/29 [==============================] - 0s 5ms/step - loss: 0.9522\n"
          ]
        }
      ]
    },
    {
      "cell_type": "code",
      "source": [
        "#LSTM Prediction\n",
        "y_pred= lstm.predict(X_test)"
      ],
      "metadata": {
        "id": "kkXn4G1kuzPK"
      },
      "execution_count": 33,
      "outputs": []
    },
    {
      "cell_type": "markdown",
      "source": [
        "Comparing Predicted vs True Adjusted Close Value – LSTM"
      ],
      "metadata": {
        "id": "_CbABtoV0nxk"
      }
    },
    {
      "cell_type": "code",
      "source": [
        "#Predicted vs True Adj Close Value – LSTM\n",
        "plt.plot(y_test, label='True Value')\n",
        "plt.plot(y_pred, label='LSTM Value')\n",
        "plt.title(\"Prediction by LSTM\")\n",
        "plt.xlabel('Time Scale')\n",
        "plt.ylabel('Scaled USD')\n",
        "plt.legend()\n",
        "plt.show()"
      ],
      "metadata": {
        "colab": {
          "base_uri": "https://localhost:8080/",
          "height": 295
        },
        "id": "omwumOhjsc-4",
        "outputId": "49940e7c-6c0a-4539-cd9c-a85cf8c8b101"
      },
      "execution_count": 34,
      "outputs": [
        {
          "output_type": "display_data",
          "data": {
            "text/plain": [
              "<Figure size 432x288 with 1 Axes>"
            ],
            "image/png": "[encoded data removed]"
          },
          "metadata": {
            "needs_background": "light"
          }
        }
      ]
    },
    {
      "cell_type": "code",
      "source": [],
      "metadata": {
        "id": "E3XoQqpOsWQW"
      },
      "execution_count": 34,
      "outputs": []
    }
  ]
}